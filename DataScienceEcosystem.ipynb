{
 "cells": [
  {
   "cell_type": "markdown",
   "metadata": {
    "tags": []
   },
   "source": [
    "#### Data Science Tools and Ecosystem ####"
   ]
  },
  {
   "cell_type": "markdown",
   "metadata": {
    "tags": []
   },
   "source": [
    "#### In this notebook, Data Science Tools and Ecosystem are summarized. ####"
   ]
  },
  {
   "cell_type": "code",
   "execution_count": null,
   "metadata": {},
   "outputs": [],
   "source": [
    "***\n",
    "Some of the commonly used libraries used by Data Scientists include:\n",
    "1. Python\n",
    "2. SQL\n",
    "3. Java\n",
    "4. R\n",
    "5. Julia\n",
    "***"
   ]
  },
  {
   "cell_type": "code",
   "execution_count": null,
   "metadata": {},
   "outputs": [],
   "source": [
    "***\n",
    "Some of the commonly used libraries used by Data Scientists inclue:\n",
    "1. Numpy\n",
    "2. Pandas\n",
    "3. Matplotlib\n",
    "4. Scikit-learn\n",
    "5. Tensorflow\n",
    "6. Pytorch\n",
    "***"
   ]
  },
  {
   "cell_type": "markdown",
   "metadata": {},
   "source": [
    "### Results\n",
    "\n",
    "| --- | --- | --- | --- |\n",
    "| Data Science Tools | Purpose | Language | Type |\n",
    "| --- | --- | --- | --- |\n",
    "| Python | General Purpose programming language | Python | Language |\n",
    "| --- | --- | --- | --- |\n",
    "| Jupyter Notebook | Interactive computing environment | Python | IDE |\n",
    "| --- | --- | --- | --- |\n",
    "| R | Statistical computing and graphics | R | Language |\n",
    "| --- | --- | --- | --- |\n",
    "| RStudio | Integrated development environment | R | IDE |\n",
    "| --- | --- | --- | --- |\n",
    "| Numpy | Numerical computing library | Python | Library |\n",
    "| --- | --- | --- | --- |\n",
    "| Pandas | Data manipulation library | Python | Library |\n",
    "| --- | --- | --- | --- |\n",
    "| Orange | Data visualization and analysis | Python | Tool |\n",
    "| --- | --- | --- | --- |\n",
    "| WEKA | Machine Learning Software | Java | Tool |"
   ]
  },
  {
   "cell_type": "markdown",
   "metadata": {},
   "source": [
    "Below are a few examples of evaluating arithmetic expressions in Python:\n",
    "1. Addition\n",
    "2. Subtraction\n",
    "3. Multiplication\n",
    "4. Division\n",
    "5. Modulo\n",
    "6. Exponential"
   ]
  },
  {
   "cell_type": "code",
   "execution_count": 5,
   "metadata": {
    "tags": []
   },
   "outputs": [
    {
     "name": "stdout",
     "output_type": "stream",
     "text": [
      "add:  39\n",
      "sub:  109\n",
      "multi:  437\n",
      "divi:  5.0\n",
      "mod:  2\n",
      "exp:  1296\n"
     ]
    }
   ],
   "source": [
    "#Addition Arthmetic Expression\n",
    "x = 10\n",
    "y = 29\n",
    "add = x + y\n",
    "print(\"add: \",add)\n",
    "\n",
    "#Substraction Arthmetic Expression\n",
    "a = 148\n",
    "b = 39\n",
    "sub = a - b\n",
    "print(\"sub: \",sub)\n",
    "\n",
    "#Multiplication Arthmetic Expression\n",
    "num1 = 19\n",
    "num2 = 23\n",
    "multi = num1 * num2\n",
    "print(\"multi: \",multi)\n",
    "\n",
    "#Division Arthmetic Expression\n",
    "numerator = 10\n",
    "denominator = 2\n",
    "divi = numerator / denominator\n",
    "print(\"divi: \",divi)\n",
    "\n",
    "#Modulo Arthmetic Expression\n",
    "a = 20\n",
    "b = 3\n",
    "mod = a % b\n",
    "print(\"mod: \",mod)\n",
    "\n",
    "#Exponentiation Arthmetic Expression\n",
    "base = 6\n",
    "exponent = 4\n",
    "exp = base ** exponent\n",
    "print(\"exp: \",exp)"
   ]
  },
  {
   "cell_type": "code",
   "execution_count": 6,
   "metadata": {
    "tags": []
   },
   "outputs": [
    {
     "name": "stdout",
     "output_type": "stream",
     "text": [
      "multiandaddint:  798\n"
     ]
    }
   ],
   "source": [
    "#This a simple arithmetic expression to mutiply then add integers\n",
    "\n",
    "x = 38\n",
    "y = 20\n",
    "\n",
    "multiandaddint = (x*y)+x\n",
    "print(\"multiandaddint: \",multiandaddint)"
   ]
  },
  {
   "cell_type": "code",
   "execution_count": 7,
   "metadata": {
    "tags": []
   },
   "outputs": [
    {
     "name": "stdout",
     "output_type": "stream",
     "text": [
      "329 minutes in hours: 5.48 Hours\n"
     ]
    }
   ],
   "source": [
    "#This will convert 200 minutes to hours by diving by 60\n",
    "\n",
    "minutes = 329\n",
    "hours = minutes / 60\n",
    "print(minutes,\"minutes in hours: {:.2f} Hours\".format(hours))"
   ]
  },
  {
   "cell_type": "markdown",
   "metadata": {},
   "source": [
    "**Objectivs of using lists in Python:**\n",
    "\n",
    "**.** To store a collection of items in a specific order.\n",
    "\n",
    "**.** To group related items together.\n",
    "\n",
    "**.** To make code more concise and efficient.\n",
    "\n",
    "**.** To perform the same operations on multiple items at once.\n",
    "\n",
    "**.** Lists are a versatile data structure that can be used in a variety of ways.\n",
    "\n",
    "**.** It can also use lists to create more complex data structures, such as matrices and dictionaries."
   ]
  },
  {
   "cell_type": "markdown",
   "metadata": {},
   "source": [
    "## Author:\n",
    "Moparthi Mounika"
   ]
  },
  {
   "cell_type": "code",
   "execution_count": null,
   "metadata": {},
   "outputs": [],
   "source": []
  }
 ],
 "metadata": {
  "kernelspec": {
   "display_name": "Python",
   "language": "python",
   "name": "conda-env-python-py"
  },
  "language_info": {
   "codemirror_mode": {
    "name": "ipython",
    "version": 3
   },
   "file_extension": ".py",
   "mimetype": "text/x-python",
   "name": "python",
   "nbconvert_exporter": "python",
   "pygments_lexer": "ipython3",
   "version": "3.7.12"
  }
 },
 "nbformat": 4,
 "nbformat_minor": 4
}
